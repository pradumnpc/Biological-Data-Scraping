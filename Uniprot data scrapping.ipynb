{
 "cells": [
  {
   "cell_type": "markdown",
   "metadata": {},
   "source": [
    "# Uniprot data scrapping using Gene name \n",
    "### Used gene name as a input and stored a GPCR related gene entry in other file \n"
   ]
  },
  {
   "cell_type": "markdown",
   "metadata": {},
   "source": [
    "### Load necessary packages "
   ]
  },
  {
   "cell_type": "code",
   "execution_count": 7,
   "metadata": {},
   "outputs": [],
   "source": [
    "from bs4 import BeautifulSoup  # For get data from web\n",
    "import requests \n",
    "import re  # regular expression used for extracting information from txt file \n",
    "f = open('input_gene_name_file.txt','r')# get gene list file "
   ]
  },
  {
   "cell_type": "markdown",
   "metadata": {},
   "source": [
    "### Function to get Uniprot id using gene name"
   ]
  },
  {
   "cell_type": "code",
   "execution_count": 8,
   "metadata": {},
   "outputs": [],
   "source": [
    "def get_id_from_gene_file(f):\n",
    "    \"\"\"This function gives the Uniprot ID of given gene list in file \"\"\"\n",
    "    list1 = []  # empty list we can append the uniprot id of the given gene name that associated with the homo sapiens and that should be a reviewed entry \n",
    "    for i in f:\n",
    "        try: # used for if there is some error accure while running program but that error should not stop the code \n",
    "            i.rstrip()  # for removing '\\n' from the gene file\n",
    "            id2 = i.rstrip() \n",
    "            # url for fetching information from uniprot with conditional formating \n",
    "            # change just url for your interest of data to get the uniprot id of your interest term\n",
    "            url = ('https://www.uniprot.org/uniprot/?query=reviewed:yes+gene%3A{}+organism%3A%22Homo+sapiens+%28Human%29+%5B9606%5D%22&format=tab&columns=id,reviewed,protein%20names'.format(id2))\n",
    "            req = requests.get(url)\n",
    "            soup = req.text\n",
    "            id1 = re.search(r'Protein names\\n(\\w.*)\\treviewed',soup)  # regular expression for extract only uniprotID \n",
    "            uniid = id1.group(1)\n",
    "            list1.append(uniid) # append ID to list \n",
    "    #         print('uniid ='+id1.group(1))\n",
    "        except Exception as e:  #  if id not match our url this eception handle the error and programe run properly\n",
    "            pass  # if error occure just go forward and search for another gene name \n",
    "    return list1 # return list containg uniprot id "
   ]
  },
  {
   "cell_type": "markdown",
   "metadata": {},
   "source": [
    "### Call ID function"
   ]
  },
  {
   "cell_type": "code",
   "execution_count": 16,
   "metadata": {},
   "outputs": [],
   "source": [
    "gene_id = get_id_from_gene_file(f) # call id function to get the ID list  "
   ]
  },
  {
   "cell_type": "markdown",
   "metadata": {},
   "source": [
    "### Function for get only frunction of individual  gene from list of gene "
   ]
  },
  {
   "cell_type": "code",
   "execution_count": 17,
   "metadata": {},
   "outputs": [],
   "source": [
    "def get_function(gene_id):\n",
    "    functions = []   # empty list for the store function of that gene \n",
    "    for i in gene_id:\n",
    "        url = ('https://www.uniprot.org/uniprot/{}').format(i)  # get html page of indivisual entry\n",
    "        req = requests.get(url).text    # req object for extract informaton in text format\n",
    "        soup = BeautifulSoup(req,'lxml')  # soup objetc content html data\n",
    "        id1 = soup.find('span',{'property':'text'}).text  # extract only span tag which contains the function of the given gene \n",
    "        fun = re.search('(.+)',id1) # regular expresion for matching text of function  \n",
    "        fun = fun.group(0) # it contains the match string \n",
    "        functions.append(fun)  # append in list \n",
    "    return functions  # return only list of function "
   ]
  },
  {
   "cell_type": "markdown",
   "metadata": {},
   "source": [
    "### Call  get_function for creating list of function  "
   ]
  },
  {
   "cell_type": "code",
   "execution_count": 18,
   "metadata": {},
   "outputs": [],
   "source": [
    "functions = get_function(gene_id)  # list of functions of given uniprot id "
   ]
  },
  {
   "cell_type": "markdown",
   "metadata": {},
   "source": [
    "### Dictionary that stored the function and associated uniprot id "
   ]
  },
  {
   "cell_type": "code",
   "execution_count": 22,
   "metadata": {},
   "outputs": [],
   "source": [
    "# using zip() \n",
    "# to convert lists to dictionary\n",
    "# assign each function with there uniprot id \n",
    "dict1 = dict(zip(functions,gene_id)) "
   ]
  },
  {
   "cell_type": "markdown",
   "metadata": {},
   "source": [
    "### function for check the indivisul id which contains the GPCR related activity or not"
   ]
  },
  {
   "cell_type": "code",
   "execution_count": 19,
   "metadata": {},
   "outputs": [],
   "source": [
    "def validated_gene(dict1): # this function for vaidate the gene that \n",
    "    validated_id = []\n",
    "    for key, value in dict1.items():\n",
    "        # input your interst of keyword to validate the gene that are related to this function \n",
    "        g_protein = ['G-protein coupled receptor','G-proteins','GPCR','G proteins','G protein','G protein coupled receptor signaling pathway','G protein coupled receptor pathway','G protein coupled receptor activity']\n",
    "        for j in g_protein:\n",
    "            if j in key :\n",
    "                validated_id.append(value) # append validated id which contains the gpcr activity \n",
    "    return validated_id"
   ]
  },
  {
   "cell_type": "markdown",
   "metadata": {},
   "source": [
    "## Validated Uniprot Id "
   ]
  },
  {
   "cell_type": "code",
   "execution_count": 21,
   "metadata": {},
   "outputs": [],
   "source": [
    "validated_id = validated_gene(dict1)\n",
    "uniquie_id = set(validated_id) # append in set for get the unique list of entry \n",
    "uniquie_id = list(uniquie_id) # list containg gpcr activity "
   ]
  }
 ],
 "metadata": {
  "kernelspec": {
   "display_name": "Python 3",
   "language": "python",
   "name": "python3"
  },
  "language_info": {
   "codemirror_mode": {
    "name": "ipython",
    "version": 3
   },
   "file_extension": ".py",
   "mimetype": "text/x-python",
   "name": "python",
   "nbconvert_exporter": "python",
   "pygments_lexer": "ipython3",
   "version": "3.8.2"
  }
 },
 "nbformat": 4,
 "nbformat_minor": 4
}
